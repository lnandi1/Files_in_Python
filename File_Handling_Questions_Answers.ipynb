{
 "cells": [
  {
   "cell_type": "markdown",
   "metadata": {},
   "source": [
    "**File Handling Questions**"
   ]
  },
  {
   "cell_type": "markdown",
   "metadata": {},
   "source": [
    "**(1) Write a Program which creates a file called Cinemas.txt and populate it with your 3 favourite films.**\n"
   ]
  },
  {
   "cell_type": "raw",
   "metadata": {},
   "source": [
    "So, the file Cinema.txt may contain the following films:\n",
    "Little Women\n",
    "Game of Thrones\n",
    "Star Wars"
   ]
  },
  {
   "cell_type": "code",
   "execution_count": 3,
   "metadata": {},
   "outputs": [],
   "source": [
    "# PROGRAM 1\n",
    "# Writing to a Text File\n",
    "with open(\"Cinema.txt\", \"w\") as file:\n",
    "    file.write(\"Little Women\\n\")\n",
    "    file.write(\"Game of Thrones\\n\")\n",
    "    file.write(\"Star Wars\\n\")"
   ]
  },
  {
   "cell_type": "markdown",
   "metadata": {},
   "source": [
    "**(2) Write a Program which reads the file Cinema.txt and outputs the contents line by line.**\n"
   ]
  },
  {
   "cell_type": "raw",
   "metadata": {},
   "source": [
    "Output\n",
    "Little Women\n",
    "Game of Thrones\n",
    "Star Wars"
   ]
  },
  {
   "cell_type": "code",
   "execution_count": 4,
   "metadata": {},
   "outputs": [
    {
     "name": "stdout",
     "output_type": "stream",
     "text": [
      "Little Women\n",
      "Game of Thrones\n",
      "Star Wars\n",
      "\n"
     ]
    }
   ],
   "source": [
    "# PROGRAM 2\n",
    "# Using a FOR statement to read each line of the file\n",
    "with open(\"Cinema.txt\") as file:\n",
    "    for line in file:\n",
    "        print(line, end=\"\")\n",
    "        \n",
    "    print()"
   ]
  },
  {
   "cell_type": "markdown",
   "metadata": {},
   "source": [
    "(**(3) Write a Program which reads the contents of the file Cinema.txt into a list and then outputs the list in alphabetical order.**"
   ]
  },
  {
   "cell_type": "raw",
   "metadata": {},
   "source": [
    "Output\n",
    "Game of Thrones\n",
    "Little Women\n",
    "Star Wars"
   ]
  },
  {
   "cell_type": "code",
   "execution_count": 13,
   "metadata": {},
   "outputs": [
    {
     "name": "stdout",
     "output_type": "stream",
     "text": [
      "['Game of Thrones', 'Little Women', 'Star Wars']\n"
     ]
    }
   ],
   "source": [
    "# PROGRAM 3\n",
    "# How to Read the Lines of a File into a List\n",
    "members = []\n",
    "with open(\"Cinema.txt\") as file:\n",
    "    for line in file:\n",
    "        line = line.replace(\"\\n\",\"\")\n",
    "        members.append(line)\n",
    "members = sorted(members)\n",
    "print(members)"
   ]
  },
  {
   "cell_type": "markdown",
   "metadata": {},
   "source": [
    "**(4) Now, write a Program which adds 2 more films to the file Cinema.txt.**"
   ]
  },
  {
   "cell_type": "code",
   "execution_count": null,
   "metadata": {},
   "outputs": [],
   "source": [
    "So, the file Cinema.txt could look like this:-\n",
    "Little Women\n",
    "Game of Thrones\n",
    "Star Wars\n",
    "2017\n",
    "Cats"
   ]
  },
  {
   "cell_type": "code",
   "execution_count": 14,
   "metadata": {},
   "outputs": [],
   "source": [
    "# PROGRAM 4\n",
    "# Writing to a Text File\n",
    "with open(\"Cinema.txt\", \"a\") as file:\n",
    "    file.write(\"2017\\n\")\n",
    "    file.write(\"Cats\\n\")\n",
    "    "
   ]
  },
  {
   "cell_type": "markdown",
   "metadata": {},
   "source": [
    "**(5)  Write a Function called Favourite_Books which invites the user to enter the names of \n",
    "5  favourite books and writes the names to a file called Book.txt. \n",
    "(Afterwards check that the file Book.txt is created with the relevant contents).**\n"
   ]
  },
  {
   "cell_type": "code",
   "execution_count": null,
   "metadata": {},
   "outputs": [],
   "source": [
    "So, the file Books.txt could contain:-\n",
    "\n",
    "The Autobiography of Bill Gates\n",
    "Explaining Big Data\n",
    "Artificial Intelligence Made Simple\n",
    "Elon Musk in his own words.\n",
    "The Bitcoin Revolution"
   ]
  },
  {
   "cell_type": "code",
   "execution_count": 19,
   "metadata": {},
   "outputs": [],
   "source": [
    "# PROGRAM 5\n",
    "def Favourite_Books():\n",
    "    with open(\"Book.txt\",\"w\") as file:\n",
    "        file.write(\"The Autobiography of Bill Gates\\n\")\n",
    "        file.write(\"Explaining Big Data\\n\")\n",
    "        file.write(\"Artificial Intelligence Made Simple\\n\")\n",
    "        file.write(\"Elon Musk in his own words.\\n\")\n",
    "        file.write(\"The Bitcoin Revolution\\n\")\n"
   ]
  },
  {
   "cell_type": "code",
   "execution_count": 20,
   "metadata": {},
   "outputs": [],
   "source": [
    "Favourite_Books()"
   ]
  },
  {
   "cell_type": "markdown",
   "metadata": {},
   "source": [
    "**(6) Write a Function called Inventions_Year() which reads the contents \n",
    "of the following 2-D array and stores it in a file called Inventions.csv.**\n"
   ]
  },
  {
   "cell_type": "raw",
   "metadata": {},
   "source": [
    "[[ ‘Television’, ‘1927’],\n",
    "[‘Computer’,  ‘1832’    ],\n",
    "[‘5G’,  ‘2013’    ],\n",
    "[‘WWW’, ‘1989’  ]]"
   ]
  },
  {
   "cell_type": "code",
   "execution_count": 48,
   "metadata": {},
   "outputs": [],
   "source": [
    "# PROGRAM 6\n",
    "import csv\n",
    "def Inventions_Year():\n",
    "    Inventions = [[\"Television\",1927], [\"Computer\",  1832],[\"5G\",2013],[\"WWW\", 1989]]\n",
    "    with open(\"Inventions.csv\", \"w\",newline =\"\") as file:\n",
    "        writer = csv.writer(file)\n",
    "        writer.writerows(Inventions)\n",
    "        \n",
    "        "
   ]
  },
  {
   "cell_type": "code",
   "execution_count": 49,
   "metadata": {},
   "outputs": [],
   "source": [
    "Inventions_Year()"
   ]
  },
  {
   "cell_type": "markdown",
   "metadata": {},
   "source": [
    "**(7) Now, write a Function which reads the contents of the file \n",
    "Inventions.txt which outputs the contents of the file Inventions.csv**\n"
   ]
  },
  {
   "cell_type": "code",
   "execution_count": 52,
   "metadata": {},
   "outputs": [],
   "source": [
    "# PROGRAM 7\n",
    "# How to read data from a CSV file\n",
    "import csv\n",
    "def Inventions_Read():\n",
    "    with open(\"Inventions.csv\", newline=\"\") as file:\n",
    "        reader = csv.reader(file)\n",
    "        for row in reader:\n",
    "            print(row[0] + \"  \" + str(row[1]))"
   ]
  },
  {
   "cell_type": "code",
   "execution_count": 53,
   "metadata": {},
   "outputs": [
    {
     "name": "stdout",
     "output_type": "stream",
     "text": [
      "Television  1927\n",
      "Computer  1832\n",
      "5G  2013\n",
      "WWW  1989\n"
     ]
    }
   ],
   "source": [
    "Inventions_Read()"
   ]
  },
  {
   "cell_type": "markdown",
   "metadata": {},
   "source": [
    "**(8) Now, create your own 2-D array with details of 3 Artists and Songs. \n",
    "Then create a file called Artist_Song.csv which stores the contents of the 2-D array.**\n"
   ]
  },
  {
   "cell_type": "code",
   "execution_count": 58,
   "metadata": {},
   "outputs": [],
   "source": [
    "# PROGRAM 8\n",
    "import csv\n",
    "def Artists():\n",
    "    Artists_Singing = [[\"May\",\"White Swans\"], [\"Beetles\", \"Yesterday\"],[\"Ed Sheeran\",\"Be Beautiful\"]]\n",
    "    with open(\"Artist_Song.csv\", \"w\",newline =\"\") as file:\n",
    "        writer = csv.writer(file)\n",
    "        writer.writerows(Artists_Singing)\n",
    "        \n",
    "    "
   ]
  },
  {
   "cell_type": "code",
   "execution_count": 59,
   "metadata": {},
   "outputs": [],
   "source": [
    "Artists()"
   ]
  },
  {
   "cell_type": "markdown",
   "metadata": {},
   "source": [
    "**(9) Now, create a Program which outputs the contents of the file Artist_Song.txt**\n"
   ]
  },
  {
   "cell_type": "code",
   "execution_count": 61,
   "metadata": {},
   "outputs": [],
   "source": [
    "# PROGRAM 9\n",
    "import csv\n",
    "def Artists_Read():\n",
    "    with open(\"Artist_Song.csv\", newline=\"\") as file:\n",
    "        reader = csv.reader(file)\n",
    "        for row in reader:\n",
    "            print(row[0] + \"  \" + str(row[1]))"
   ]
  },
  {
   "cell_type": "code",
   "execution_count": 62,
   "metadata": {},
   "outputs": [
    {
     "name": "stdout",
     "output_type": "stream",
     "text": [
      "May  White Swans\n",
      "Beetles  Yesterday\n",
      "Ed Sheeran  Be Beautiful\n"
     ]
    }
   ],
   "source": [
    "Artists_Read()"
   ]
  },
  {
   "cell_type": "markdown",
   "metadata": {},
   "source": [
    "**(10) What are the different ways you know of being able to permanently store information?**"
   ]
  },
  {
   "cell_type": "markdown",
   "metadata": {},
   "source": [
    "**Through external files and tables in databases**"
   ]
  },
  {
   "cell_type": "code",
   "execution_count": null,
   "metadata": {},
   "outputs": [],
   "source": []
  }
 ],
 "metadata": {
  "kernelspec": {
   "display_name": "Python 3",
   "language": "python",
   "name": "python3"
  },
  "language_info": {
   "codemirror_mode": {
    "name": "ipython",
    "version": 3
   },
   "file_extension": ".py",
   "mimetype": "text/x-python",
   "name": "python",
   "nbconvert_exporter": "python",
   "pygments_lexer": "ipython3",
   "version": "3.7.4"
  }
 },
 "nbformat": 4,
 "nbformat_minor": 4
}
