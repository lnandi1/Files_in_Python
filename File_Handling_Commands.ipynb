{
 "cells": [
  {
   "cell_type": "markdown",
   "metadata": {},
   "source": [
    "**Below are programs which show you how to READ and WRITE to Files. Reading and Writing are File Handling\n",
    "operations**"
   ]
  },
  {
   "cell_type": "markdown",
   "metadata": {},
   "source": [
    "**(1) Code which Writes to a File**"
   ]
  },
  {
   "cell_type": "markdown",
   "metadata": {},
   "source": [
    "**This will open a file called members.txt. The \"w\" stands for \"write\" and if the file does not exist \n",
    "the \"w\" mode will create it and if it exists then, this mode will erase all existing data.**"
   ]
  },
  {
   "cell_type": "code",
   "execution_count": 1,
   "metadata": {},
   "outputs": [],
   "source": [
    "# Writing to a Text File\n",
    "with open(\"members.txt\", \"w\") as file:\n",
    "    file.write(\"Alex Jones\\n\")"
   ]
  },
  {
   "cell_type": "markdown",
   "metadata": {},
   "source": [
    "**Contents of the file members.txt**\n",
    "<br/>Alex Jones"
   ]
  },
  {
   "cell_type": "markdown",
   "metadata": {},
   "source": [
    "**If the file does not exist then this mode creates it. If the file exist then this mode appends (\"a\") mode data \n",
    "to the end of the file**"
   ]
  },
  {
   "cell_type": "code",
   "execution_count": 2,
   "metadata": {},
   "outputs": [],
   "source": [
    "# Appending to a File\n",
    "with open(\"members.txt\",\"a\") as file:\n",
    "    file.write(\"Jane Smith\\n\")"
   ]
  },
  {
   "cell_type": "markdown",
   "metadata": {},
   "source": [
    "**Contents of the file members.txt**\n",
    "<br/>Alex Jones\n",
    "<br/>Jane Smith"
   ]
  },
  {
   "cell_type": "markdown",
   "metadata": {},
   "source": [
    "**(2) Code which allows you to Read from a File. There are different ways which allow you to do this.**"
   ]
  },
  {
   "cell_type": "code",
   "execution_count": 3,
   "metadata": {},
   "outputs": [
    {
     "name": "stdout",
     "output_type": "stream",
     "text": [
      "Alex Jones\n",
      "Jane Smith\n",
      "\n"
     ]
    }
   ],
   "source": [
    "# Using a FOR statement to read each line of the file\n",
    "with open(\"members.txt\") as file:\n",
    "    for line in file:\n",
    "        print(line, end=\"\")\n",
    "        \n",
    "    print()"
   ]
  },
  {
   "cell_type": "code",
   "execution_count": 4,
   "metadata": {},
   "outputs": [
    {
     "name": "stdout",
     "output_type": "stream",
     "text": [
      "Alex Jones\n",
      "Jane Smith\n",
      "\n"
     ]
    }
   ],
   "source": [
    "# How to read the entire file as a string\n",
    "with open(\"members.txt\") as file:\n",
    "    contents = file.read()\n",
    "    print(contents)"
   ]
  },
  {
   "cell_type": "code",
   "execution_count": 5,
   "metadata": {},
   "outputs": [
    {
     "name": "stdout",
     "output_type": "stream",
     "text": [
      "Alex Jones\n",
      "Jane Smith\n",
      "\n"
     ]
    }
   ],
   "source": [
    "# How to read the entire file as a list \n",
    "with open(\"members.txt\") as file:\n",
    "    members = file.readlines();\n",
    "print(members[0], end=\"\")\n",
    "print(members[1])\n"
   ]
  },
  {
   "cell_type": "code",
   "execution_count": 6,
   "metadata": {},
   "outputs": [
    {
     "name": "stdout",
     "output_type": "stream",
     "text": [
      "Alex Jones\n",
      "Jane Smith\n",
      "\n"
     ]
    }
   ],
   "source": [
    "# How to read each line of a file\n",
    "with open(\"members.txt\") as file:\n",
    "    member1=file.readline();\n",
    "    print(member1, end =\"\")\n",
    "    member2 = file.readline()\n",
    "    print(member2)"
   ]
  },
  {
   "cell_type": "code",
   "execution_count": 7,
   "metadata": {},
   "outputs": [],
   "source": [
    "# How to write and read a list of strings\n",
    "members = [\"Alex Taylor\",\"Royal Eden\"]\n",
    "with open(\"members.txt\",\"a\") as file:\n",
    "    for m in members:\n",
    "        file.write(m + \"\\n\")\n"
   ]
  },
  {
   "cell_type": "code",
   "execution_count": 8,
   "metadata": {},
   "outputs": [
    {
     "name": "stdout",
     "output_type": "stream",
     "text": [
      "['Alex Jones', 'Jane Smith', 'Alex Taylor', 'Royal Eden']\n"
     ]
    }
   ],
   "source": [
    "# How to Read the Lines of a File into a List\n",
    "members = []\n",
    "with open(\"members.txt\") as file:\n",
    "    for line in file:\n",
    "        line = line.replace(\"\\n\",\"\")\n",
    "        members.append(line)\n",
    "print(members)"
   ]
  },
  {
   "cell_type": "code",
   "execution_count": 9,
   "metadata": {},
   "outputs": [],
   "source": [
    "# How to write and read a list of numbers to a file\n",
    "# How to write the numbers\n",
    "years = [2016,2017,2019,2020,2021]\n",
    "with open(\"years.txt\",\"w\") as years_file:\n",
    "    for year in years:\n",
    "        years_file.write(str(year) + \"\\n\")  # Converts int to str\n",
    "\n"
   ]
  },
  {
   "cell_type": "code",
   "execution_count": 10,
   "metadata": {},
   "outputs": [],
   "source": [
    "# How to read the items in a list from a file"
   ]
  },
  {
   "cell_type": "code",
   "execution_count": 11,
   "metadata": {},
   "outputs": [
    {
     "name": "stdout",
     "output_type": "stream",
     "text": [
      "[2016, 2017, 2019, 2020, 2021]\n"
     ]
    }
   ],
   "source": [
    "years = []\n",
    "with open(\"years.txt\") as file:\n",
    "    for line in file:\n",
    "        line = line.replace(\"\\n\",\"\")\n",
    "        years.append(int(line))    # Converts str to int\n",
    "print(years)"
   ]
  },
  {
   "cell_type": "markdown",
   "metadata": {},
   "source": [
    "**Now here is some code related to CSV Files (Comma Separated Files)***"
   ]
  },
  {
   "cell_type": "code",
   "execution_count": 12,
   "metadata": {},
   "outputs": [],
   "source": [
    "# Creating a 2-D list with 3 rows and 2 columns\n",
    "movies = [[\"The White Swan\", 2016],\n",
    "         [\"Royal Blues\", 2019],\n",
    "         [\"Time Machines\", 2020]]\n",
    "# Importing the CSV Module\n",
    "import csv\n",
    "# Writing the List to a CSV File\n",
    "with open(\"movies.csv\",\"w\", newline=\"\") as file:\n",
    "    writer = csv.writer(file)\n",
    "    writer.writerows(movies)\n",
    "    \n",
    "    \n",
    "\n",
    "\n",
    "\n",
    "\n",
    "\n"
   ]
  },
  {
   "cell_type": "markdown",
   "metadata": {},
   "source": [
    "**The Contents of the CSV File**\n",
    "<br/>The White Swan, 2016\n",
    "<br/>Royal Blues, 2019\n",
    "<br/>Time Machines, 2020"
   ]
  },
  {
   "cell_type": "code",
   "execution_count": 13,
   "metadata": {},
   "outputs": [
    {
     "name": "stdout",
     "output_type": "stream",
     "text": [
      "The White Swan  2016\n",
      "Royal Blues  2019\n",
      "Time Machines  2020\n"
     ]
    }
   ],
   "source": [
    "# How to read data from a CSV file\n",
    "with open(\"movies.csv\", newline=\"\") as file:\n",
    "    reader = csv.reader(file)\n",
    "    for row in reader:\n",
    "        print(row[0] + \"  \" + str(row[1]))"
   ]
  },
  {
   "cell_type": "code",
   "execution_count": null,
   "metadata": {},
   "outputs": [],
   "source": []
  },
  {
   "cell_type": "code",
   "execution_count": null,
   "metadata": {},
   "outputs": [],
   "source": []
  }
 ],
 "metadata": {
  "kernelspec": {
   "display_name": "Python 3",
   "language": "python",
   "name": "python3"
  },
  "language_info": {
   "codemirror_mode": {
    "name": "ipython",
    "version": 3
   },
   "file_extension": ".py",
   "mimetype": "text/x-python",
   "name": "python",
   "nbconvert_exporter": "python",
   "pygments_lexer": "ipython3",
   "version": "3.7.4"
  }
 },
 "nbformat": 4,
 "nbformat_minor": 4
}
